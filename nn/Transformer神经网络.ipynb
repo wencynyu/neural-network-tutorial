{
 "cells": [
  {
   "cell_type": "code",
   "execution_count": 1,
   "id": "864bbf68-1724-43c9-b0e4-bf673ebc168e",
   "metadata": {},
   "outputs": [
    {
     "name": "stdout",
     "output_type": "stream",
     "text": [
      "操作系统及版本信息:Linux-5.15.153.1-microsoft-standard-WSL2-x86_64-with-glibc2.35\n",
      "系统位数:('64bit', 'ELF')\n",
      "pytorch版本:2.3.0\n",
      "cuda版本:12.1\n",
      "cudnn版本:8902\n"
     ]
    }
   ],
   "source": [
    "import platform\n",
    "import torch\n",
    "\n",
    "def showinfo(tip, info):\n",
    "    print(\"{}:{}\".format(tip,info))\n",
    "\n",
    "showinfo(\"操作系统及版本信息\",platform.platform())\n",
    "showinfo('系统位数', platform.architecture())\n",
    "showinfo('pytorch版本', torch.__version__)\n",
    "showinfo('cuda版本', torch.version.cuda)\n",
    "showinfo('cudnn版本', torch.backends.cudnn.version())"
   ]
  },
  {
   "cell_type": "code",
   "execution_count": 2,
   "id": "01f67e66-3f26-4b52-8a59-42d3dea43913",
   "metadata": {},
   "outputs": [],
   "source": [
    "from torch import nn\n",
    "import torch.nn.functional as F\n",
    "\n",
    "\n",
    "class TransformerEncoderLayer(nn.Module):\n",
    "    def __init__(self, d_model, num_heads, dim_feedforward=2048, dropout=0.1):\n",
    "        super(TransformerEncoderLayer, self).__init__()\n",
    "        self.self_attn = nn.MultiheadAttention(d_model, num_heads, dropout=dropout)\n",
    "        self.linear1 = nn.Linear(d_model, dim_feedforward)\n",
    "        self.dropout = nn.Dropout(dropout)\n",
    "        self.linear2 = nn.Linear(dim_feedforward, d_model)\n",
    "\n",
    "        self.norm1 = nn.LayerNorm(d_model)\n",
    "        self.norm2 = nn.LayerNorm(d_model)\n",
    "        self.dropout1 = nn.Dropout(dropout)\n",
    "        self.dropout2 = nn.Dropout(dropout)\n",
    "\n",
    "    def forward(self, src):\n",
    "        src2 = self.norm1(src)\n",
    "        # Multi-head attention\n",
    "        # Ensure the output of self_attn has the same shape as src\n",
    "        attn_output, _ = self.self_attn(src2, src2, src2)\n",
    "        src = src + attn_output\n",
    "\n",
    "        # Another normalization\n",
    "        src2 = self.norm2(src)\n",
    "\n",
    "        # Feed-forward network\n",
    "        # Check output shape of linear1; should be [batch_size, seq_len, dim_feedforward]\n",
    "        src2 = F.relu(self.linear1(src2))\n",
    "        src2 = self.dropout1(src2)  # Apply dropout after activation\n",
    "\n",
    "        # Ensure linear2 shapes the output back to [batch_size, seq_len, d_model]\n",
    "        src2 = self.linear2(src2)\n",
    "        src2 = self.dropout2(src2)  # Apply dropout\n",
    "\n",
    "        # Residual connection\n",
    "        src = src + src2\n",
    "        return src"
   ]
  },
  {
   "cell_type": "code",
   "execution_count": 3,
   "id": "ede5dc41-c68d-4f36-ab05-2456a70b9923",
   "metadata": {},
   "outputs": [],
   "source": [
    "# 定义卷积神经网络\n",
    "class TransformerCNN(nn.Module):\n",
    "    def __init__(self):\n",
    "        super(TransformerCNN, self).__init__()\n",
    "        self.layer1 = nn.Sequential(\n",
    "            nn.Conv2d(1, 32, kernel_size=5, stride=1, padding=2),\n",
    "            nn.ReLU(),\n",
    "            nn.MaxPool2d(kernel_size=2, stride=2))\n",
    "        self.layer2 = nn.Sequential(\n",
    "            nn.Conv2d(32, 64, kernel_size=5, stride=1, padding=2),\n",
    "            nn.ReLU(),\n",
    "            nn.MaxPool2d(kernel_size=2, stride=2))\n",
    "\n",
    "        self.transformer_encoder = TransformerEncoderLayer(d_model=64, num_heads=8)\n",
    "        self.fc1 = nn.Linear(7 * 7 * 64, 1000)\n",
    "        self.fc2 = nn.Linear(1000, 10)\n",
    "\n",
    "    def forward(self, x):\n",
    "        out = self.layer1(x)\n",
    "        out = self.layer2(out)\n",
    "        # Reshape for Transformer\n",
    "        b, c, h, w = out.size()\n",
    "        out = out.view(b, c, h * w).permute(2, 0, 1)  # [seq_len, batch, features]\n",
    "\n",
    "        # Transformer\n",
    "        out = self.transformer_encoder(out)\n",
    "\n",
    "        # Reshape back for FC layers\n",
    "        out = out.permute(1, 2, 0).contiguous().view(b, -1)\n",
    "\n",
    "        out = self.fc1(out)\n",
    "        out = self.fc2(out)\n",
    "        return out"
   ]
  },
  {
   "cell_type": "code",
   "execution_count": 4,
   "id": "d3f89616-1296-4d4d-b48b-dffcf8c2a4b4",
   "metadata": {},
   "outputs": [
    {
     "name": "stderr",
     "output_type": "stream",
     "text": [
      "/home/yuwenxin/anaconda3/envs/qunat-trade/lib/python3.9/site-packages/tqdm/auto.py:21: TqdmWarning: IProgress not found. Please update jupyter and ipywidgets. See https://ipywidgets.readthedocs.io/en/stable/user_install.html\n",
      "  from .autonotebook import tqdm as notebook_tqdm\n"
     ]
    }
   ],
   "source": [
    "import torchvision\n",
    "import torchvision.transforms as transforms\n",
    "from torch.utils.data import DataLoader\n",
    "from torchvision.datasets import MNIST\n",
    "\n",
    "transform = transforms.Compose([\n",
    "    transforms.ToTensor(),\n",
    "    transforms.Normalize((0.5,), (0.5,))\n",
    "])\n",
    "\n",
    "train_set = MNIST(root='./data', train=True, download=True, transform=transform)\n",
    "test_set = MNIST(root='./data', train=False, download=True, transform=transform)\n",
    "\n",
    "train_loader = DataLoader(train_set, batch_size=64, shuffle=True)\n",
    "test_loader = DataLoader(test_set, batch_size=64, shuffle=False)"
   ]
  },
  {
   "cell_type": "code",
   "execution_count": 5,
   "id": "2e1d58d8-e7c5-4c2a-ac1e-31a138349405",
   "metadata": {},
   "outputs": [
    {
     "name": "stdout",
     "output_type": "stream",
     "text": [
      "Epoch [1/1], Step [100/938], Loss: 0.2461\n",
      "Epoch [1/1], Step [200/938], Loss: 0.2178\n",
      "Epoch [1/1], Step [300/938], Loss: 0.1823\n",
      "Epoch [1/1], Step [400/938], Loss: 0.0396\n",
      "Epoch [1/1], Step [500/938], Loss: 0.1195\n",
      "Epoch [1/1], Step [600/938], Loss: 0.0499\n",
      "Epoch [1/1], Step [700/938], Loss: 0.1414\n",
      "Epoch [1/1], Step [800/938], Loss: 0.0938\n",
      "Epoch [1/1], Step [900/938], Loss: 0.1635\n"
     ]
    }
   ],
   "source": [
    "import torch.optim as optim\n",
    "\n",
    "\n",
    "lr = 0.001\n",
    "epochs = 1\n",
    "\n",
    "model = TransformerCNN()\n",
    "criterion = nn.CrossEntropyLoss()\n",
    "optimizer = optim.Adam(model.parameters(), lr=lr)\n",
    "\n",
    "for epoch in range(epochs):\n",
    "    for i, (images, labels) in enumerate(train_loader):\n",
    "        ## 前向传播\n",
    "        outputs = model(images)\n",
    "        loss = criterion(outputs, labels)\n",
    "        \n",
    "        ## 反向传播\n",
    "        optimizer.zero_grad() # 清楚上次训练的遗留梯度信息\n",
    "        loss.backward()\n",
    "        optimizer.step()\n",
    "        \n",
    "        if (i+1) % 100 == 0:\n",
    "            print(f'Epoch [{epoch+1}/{epochs}], Step [{i+1}/{len(train_loader)}], Loss: {loss.item():.4f}')\n",
    "\n",
    "torch.save(model.state_dict(), 'cnn_mnist_transformer.pth')"
   ]
  },
  {
   "cell_type": "code",
   "execution_count": 6,
   "id": "47959dbd-7a7a-4250-9696-5dc4dcd2b818",
   "metadata": {},
   "outputs": [
    {
     "name": "stdout",
     "output_type": "stream",
     "text": [
      "Accuracy on the test set: 98.04%\n"
     ]
    }
   ],
   "source": [
    "model = TransformerCNN()\n",
    "model.load_state_dict(torch.load('cnn_mnist_transformer.pth'))\n",
    "model.eval()\n",
    "correct = 0\n",
    "total = 0\n",
    "with torch.no_grad():\n",
    "    for images, labels in test_loader:\n",
    "        outputs = model(images)\n",
    "        # 给出最大可能的1个结果\n",
    "        _, predicted = torch.max(outputs.data, 1)\n",
    "        total += labels.size(0)\n",
    "        correct += (predicted == labels).sum().item()\n",
    "print(f'Accuracy on the test set: {100 * correct / total}%')"
   ]
  },
  {
   "cell_type": "code",
   "execution_count": null,
   "id": "4cad67a7-0fd8-4a6f-80fd-caf1eb46e3ed",
   "metadata": {},
   "outputs": [],
   "source": []
  }
 ],
 "metadata": {
  "kernelspec": {
   "display_name": "Python 3 (ipykernel)",
   "language": "python",
   "name": "python3"
  },
  "language_info": {
   "codemirror_mode": {
    "name": "ipython",
    "version": 3
   },
   "file_extension": ".py",
   "mimetype": "text/x-python",
   "name": "python",
   "nbconvert_exporter": "python",
   "pygments_lexer": "ipython3",
   "version": "3.9.19"
  }
 },
 "nbformat": 4,
 "nbformat_minor": 5
}
