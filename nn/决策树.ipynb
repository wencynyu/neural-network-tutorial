{
 "cells": [
  {
   "cell_type": "code",
   "execution_count": 1,
   "id": "d728d940-83b9-4d29-b701-7e26dfc86bf1",
   "metadata": {},
   "outputs": [
    {
     "name": "stdout",
     "output_type": "stream",
     "text": [
      "操作系统及版本信息:Linux-5.15.153.1-microsoft-standard-WSL2-x86_64-with-glibc2.35\n",
      "系统位数:('64bit', 'ELF')\n",
      "pytorch版本:2.3.0\n",
      "cuda版本:12.1\n",
      "cudnn版本:8902\n"
     ]
    }
   ],
   "source": [
    "import platform\n",
    "import torch\n",
    "\n",
    "def showinfo(tip, info):\n",
    "    print(\"{}:{}\".format(tip,info))\n",
    "\n",
    "showinfo(\"操作系统及版本信息\",platform.platform())\n",
    "showinfo('系统位数', platform.architecture())\n",
    "showinfo('pytorch版本', torch.__version__)\n",
    "showinfo('cuda版本', torch.version.cuda)\n",
    "showinfo('cudnn版本', torch.backends.cudnn.version())"
   ]
  },
  {
   "cell_type": "code",
   "execution_count": null,
   "id": "10bb939c-4b74-4210-9ee0-ee0164964e77",
   "metadata": {},
   "outputs": [],
   "source": []
  }
 ],
 "metadata": {
  "kernelspec": {
   "display_name": "Python 3 (ipykernel)",
   "language": "python",
   "name": "python3"
  },
  "language_info": {
   "codemirror_mode": {
    "name": "ipython",
    "version": 3
   },
   "file_extension": ".py",
   "mimetype": "text/x-python",
   "name": "python",
   "nbconvert_exporter": "python",
   "pygments_lexer": "ipython3",
   "version": "3.9.19"
  }
 },
 "nbformat": 4,
 "nbformat_minor": 5
}
