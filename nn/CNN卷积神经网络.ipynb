{
 "cells": [
  {
   "cell_type": "code",
   "execution_count": 7,
   "id": "48d7e3e8-70e6-4065-96e5-d7b325439c5b",
   "metadata": {},
   "outputs": [
    {
     "name": "stdout",
     "output_type": "stream",
     "text": [
      "操作系统及版本信息:Linux-5.15.153.1-microsoft-standard-WSL2-x86_64-with-glibc2.35\n",
      "系统位数:('64bit', 'ELF')\n",
      "pytorch版本:2.3.0\n",
      "cuda版本:12.1\n",
      "cudnn版本:8902\n"
     ]
    }
   ],
   "source": [
    "import platform\n",
    "import torch\n",
    "\n",
    "def showinfo(tip, info):\n",
    "    print(\"{}:{}\".format(tip,info))\n",
    "\n",
    "showinfo(\"操作系统及版本信息\",platform.platform())\n",
    "showinfo('系统位数', platform.architecture())\n",
    "showinfo('pytorch版本', torch.__version__)\n",
    "showinfo('cuda版本', torch.version.cuda)\n",
    "showinfo('cudnn版本', torch.backends.cudnn.version())"
   ]
  },
  {
   "cell_type": "markdown",
   "id": "18b637c1-98db-410b-9dc5-6a906336bfba",
   "metadata": {},
   "source": [
    "## 卷积神经网络\n",
    "\n",
    "### cv界的神\n",
    "通过加入卷积层，用于提取图片特征，进而有效的进行图像识别。"
   ]
  },
  {
   "cell_type": "markdown",
   "id": "da68dc01-d78a-44b5-8f74-d534f2fce966",
   "metadata": {},
   "source": [
    "## 基于pytorch直接定义一个cnn卷积神经网络"
   ]
  },
  {
   "cell_type": "code",
   "execution_count": 8,
   "id": "6bc2ed91-57c1-446e-ab1f-00482f375eb9",
   "metadata": {},
   "outputs": [],
   "source": [
    "import torch\n",
    "import torch.nn as nn\n",
    "\n",
    "\n",
    "class CNN(nn.Module):\n",
    "    def __init__(self):\n",
    "        super(CNN, self).__init__()\n",
    "        self.conv1 = nn.Conv2d(1, 32, kernel_size=3, stride=1, padding=1)\n",
    "        self.conv2 = nn.Conv2d(32, 64, kernel_size=3, stride=1, padding=1)\n",
    "        self.pool = nn.MaxPool2d(kernel_size=2, stride=2)\n",
    "        self.fc1 = nn.Linear(64 * 7 * 7, 128)\n",
    "        self.fc2 = nn.Linear(128, 10)\n",
    "\n",
    "    def forward(self, x):\n",
    "        x = self.pool(nn.functional.relu(self.conv1(x)))\n",
    "        x = self.pool(nn.functional.relu(self.conv2(x)))\n",
    "        x = x.view(-1, 64 * 7 * 7)\n",
    "        x = nn.functional.relu(self.fc1(x))\n",
    "        x = self.fc2(x)\n",
    "        return x"
   ]
  },
  {
   "cell_type": "markdown",
   "id": "8b1b48c8-09e6-4533-8294-2a3da543b5bb",
   "metadata": {},
   "source": [
    "## 加载mnist数字识别数据集"
   ]
  },
  {
   "cell_type": "code",
   "execution_count": 9,
   "id": "e8ad5de4-a0f8-4a13-b12b-16f45f3e1c71",
   "metadata": {},
   "outputs": [],
   "source": [
    "import torchvision\n",
    "import torchvision.transforms as transforms\n",
    "from torch.utils.data import DataLoader\n",
    "from torchvision.datasets import MNIST\n",
    "\n",
    "transform = transforms.Compose([\n",
    "    transforms.ToTensor(),\n",
    "    transforms.Normalize((0.5,), (0.5,))\n",
    "])\n",
    "\n",
    "train_set = MNIST(root='./data', train=True, download=True, transform=transform)\n",
    "test_set = MNIST(root='./data', train=False, download=True, transform=transform)\n",
    "\n",
    "train_loader = DataLoader(train_set, batch_size=64, shuffle=True)\n",
    "test_loader = DataLoader(test_set, batch_size=64, shuffle=False)"
   ]
  },
  {
   "cell_type": "code",
   "execution_count": 10,
   "id": "5c8dfc64-3b5c-4077-9597-b68ce84189eb",
   "metadata": {},
   "outputs": [
    {
     "ename": "SyntaxError",
     "evalue": "cannot assign to operator (1035591872.py, line 3)",
     "output_type": "error",
     "traceback": [
      "\u001b[0;36m  Cell \u001b[0;32mIn[10], line 3\u001b[0;36m\u001b[0m\n\u001b[0;31m    - epochs = 5：训练五次\u001b[0m\n\u001b[0m    ^\u001b[0m\n\u001b[0;31mSyntaxError\u001b[0m\u001b[0;31m:\u001b[0m cannot assign to operator\n"
     ]
    }
   ],
   "source": [
    "## 定义训练过程\n",
    "\n",
    "- epochs = 5：训练五次\n",
    "- lr = 0.001：学习率\n",
    "- 损失函数：交叉熵\n",
    "- 优化方法：adam梯度下降"
   ]
  },
  {
   "cell_type": "code",
   "execution_count": 11,
   "id": "5a39582b-507f-4571-a0be-567bc9ad8ab7",
   "metadata": {},
   "outputs": [
    {
     "name": "stdout",
     "output_type": "stream",
     "text": [
      "Epoch [1/5], Step [100/938], Loss: 0.1588\n",
      "Epoch [1/5], Step [200/938], Loss: 0.1087\n",
      "Epoch [1/5], Step [300/938], Loss: 0.0991\n",
      "Epoch [1/5], Step [400/938], Loss: 0.1589\n",
      "Epoch [1/5], Step [500/938], Loss: 0.1282\n",
      "Epoch [1/5], Step [600/938], Loss: 0.0249\n",
      "Epoch [1/5], Step [700/938], Loss: 0.0940\n",
      "Epoch [1/5], Step [800/938], Loss: 0.0114\n",
      "Epoch [1/5], Step [900/938], Loss: 0.1104\n",
      "Epoch [2/5], Step [100/938], Loss: 0.0145\n",
      "Epoch [2/5], Step [200/938], Loss: 0.0278\n",
      "Epoch [2/5], Step [300/938], Loss: 0.0885\n",
      "Epoch [2/5], Step [400/938], Loss: 0.0164\n",
      "Epoch [2/5], Step [500/938], Loss: 0.0089\n",
      "Epoch [2/5], Step [600/938], Loss: 0.0046\n",
      "Epoch [2/5], Step [700/938], Loss: 0.0438\n",
      "Epoch [2/5], Step [800/938], Loss: 0.1579\n",
      "Epoch [2/5], Step [900/938], Loss: 0.0082\n",
      "Epoch [3/5], Step [100/938], Loss: 0.0117\n",
      "Epoch [3/5], Step [200/938], Loss: 0.0255\n",
      "Epoch [3/5], Step [300/938], Loss: 0.0179\n",
      "Epoch [3/5], Step [400/938], Loss: 0.0043\n",
      "Epoch [3/5], Step [500/938], Loss: 0.0014\n",
      "Epoch [3/5], Step [600/938], Loss: 0.0226\n",
      "Epoch [3/5], Step [700/938], Loss: 0.0863\n",
      "Epoch [3/5], Step [800/938], Loss: 0.1835\n",
      "Epoch [3/5], Step [900/938], Loss: 0.1203\n",
      "Epoch [4/5], Step [100/938], Loss: 0.1866\n",
      "Epoch [4/5], Step [200/938], Loss: 0.0075\n",
      "Epoch [4/5], Step [300/938], Loss: 0.0689\n",
      "Epoch [4/5], Step [400/938], Loss: 0.0255\n",
      "Epoch [4/5], Step [500/938], Loss: 0.0471\n",
      "Epoch [4/5], Step [600/938], Loss: 0.0083\n",
      "Epoch [4/5], Step [700/938], Loss: 0.0039\n",
      "Epoch [4/5], Step [800/938], Loss: 0.0106\n",
      "Epoch [4/5], Step [900/938], Loss: 0.0814\n",
      "Epoch [5/5], Step [100/938], Loss: 0.0004\n",
      "Epoch [5/5], Step [200/938], Loss: 0.0079\n",
      "Epoch [5/5], Step [300/938], Loss: 0.0120\n",
      "Epoch [5/5], Step [400/938], Loss: 0.0106\n",
      "Epoch [5/5], Step [500/938], Loss: 0.0006\n",
      "Epoch [5/5], Step [600/938], Loss: 0.0234\n",
      "Epoch [5/5], Step [700/938], Loss: 0.0006\n",
      "Epoch [5/5], Step [800/938], Loss: 0.0221\n",
      "Epoch [5/5], Step [900/938], Loss: 0.0743\n"
     ]
    }
   ],
   "source": [
    "import torch.optim as optim\n",
    "\n",
    "\n",
    "lr = 0.001\n",
    "epochs = 5\n",
    "\n",
    "model = CNN()\n",
    "criterion = nn.CrossEntropyLoss()\n",
    "optimizer = optim.Adam(model.parameters(), lr=lr)\n",
    "\n",
    "for epoch in range(epochs):\n",
    "    for i, (images, labels) in enumerate(train_loader):\n",
    "        ## 前向传播\n",
    "        outputs = model(images)\n",
    "        loss = criterion(outputs, labels)\n",
    "        \n",
    "        ## 反向传播\n",
    "        optimizer.zero_grad() # 清楚上次训练的遗留梯度信息\n",
    "        loss.backward()\n",
    "        optimizer.step()\n",
    "        \n",
    "        if (i+1) % 100 == 0:\n",
    "            print(f'Epoch [{epoch+1}/{epochs}], Step [{i+1}/{len(train_loader)}], Loss: {loss.item():.4f}')\n",
    "\n",
    "torch.save(model.state_dict(), 'cnn_mnist.pth')"
   ]
  },
  {
   "cell_type": "code",
   "execution_count": 15,
   "id": "cc6eebd1-4578-4810-93cc-f40225e2c5e3",
   "metadata": {},
   "outputs": [
    {
     "name": "stdout",
     "output_type": "stream",
     "text": [
      "Accuracy on the test set: 99.15%\n"
     ]
    }
   ],
   "source": [
    "model = CNN()\n",
    "model.load_state_dict(torch.load('cnn_mnist.pth'))\n",
    "model.eval()\n",
    "correct = 0\n",
    "total = 0\n",
    "with torch.no_grad():\n",
    "    for images, labels in test_loader:\n",
    "        outputs = model(images)\n",
    "        _, predicted = torch.max(outputs.data, 1)\n",
    "        total += labels.size(0)\n",
    "        correct += (predicted == labels).sum().item()\n",
    "print(f'Accuracy on the test set: {100 * correct / total}%')"
   ]
  },
  {
   "cell_type": "code",
   "execution_count": null,
   "id": "add2cd3e-3c6c-415f-8068-dac3f54ce684",
   "metadata": {},
   "outputs": [],
   "source": []
  }
 ],
 "metadata": {
  "kernelspec": {
   "display_name": "Python 3 (ipykernel)",
   "language": "python",
   "name": "python3"
  },
  "language_info": {
   "codemirror_mode": {
    "name": "ipython",
    "version": 3
   },
   "file_extension": ".py",
   "mimetype": "text/x-python",
   "name": "python",
   "nbconvert_exporter": "python",
   "pygments_lexer": "ipython3",
   "version": "3.9.19"
  }
 },
 "nbformat": 4,
 "nbformat_minor": 5
}
